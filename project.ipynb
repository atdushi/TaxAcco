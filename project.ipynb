{
 "cells": [
  {
   "attachments": {},
   "cell_type": "markdown",
   "metadata": {},
   "source": [
    "# Клиенты и счета"
   ]
  },
  {
   "attachments": {},
   "cell_type": "markdown",
   "metadata": {},
   "source": [
    "## Инициализация"
   ]
  },
  {
   "cell_type": "code",
   "execution_count": 85,
   "metadata": {},
   "outputs": [],
   "source": [
    "from pyspark.sql import SparkSession\n",
    "from pyspark.sql.types import StructType, StructField, StringType, IntegerType, DateType\n",
    "from pyspark.sql.types import ArrayType, DoubleType, BooleanType\n",
    "from pyspark.sql import functions as F\n",
    "from pyspark.sql.window import Window\n"
   ]
  },
  {
   "cell_type": "code",
   "execution_count": 86,
   "metadata": {},
   "outputs": [],
   "source": [
    "spark = (\n",
    "    SparkSession.builder\n",
    "    .master(\"local[*]\")\n",
    "    .appName(\"project4\")\n",
    "    .config(\"spark.jars\", \"./jars/postgresql-42.5.0.jar\")\n",
    "    .getOrCreate()\n",
    ")"
   ]
  },
  {
   "attachments": {},
   "cell_type": "markdown",
   "metadata": {},
   "source": [
    "## Загрузка данных"
   ]
  },
  {
   "cell_type": "code",
   "execution_count": 87,
   "metadata": {},
   "outputs": [
    {
     "name": "stdout",
     "output_type": "stream",
     "text": [
      "root\n",
      " |-- ClientId: integer (nullable = true)\n",
      " |-- ClientName: string (nullable = true)\n",
      " |-- Type: string (nullable = true)\n",
      " |-- Form: string (nullable = true)\n",
      " |-- RegisterDate: date (nullable = true)\n",
      "\n",
      "+--------+----------+----+----+------------+\n",
      "|ClientId|ClientName|Type|Form|RegisterDate|\n",
      "+--------+----------+----+----+------------+\n",
      "|       1|  Клиент 1|   Ф|   -|  2020-11-01|\n",
      "|       2|  Клиент 2|   Ю| ООО|  2020-11-02|\n",
      "|       3|  Клиент 3|   Ф|   -|  2020-11-03|\n",
      "|       4|  Клиент 4|   Ю|  ИП|  2020-11-04|\n",
      "|       5|  Клиент 5|   Ф|   -|  2020-11-01|\n",
      "|       6|  Клиент 6|   Ю|  АО|  2020-11-02|\n",
      "|       7|  Клиент 7|   Ф|   -|  2020-11-03|\n",
      "|       8|  Клиент 8|   Ю| ПАО|  2020-11-01|\n",
      "|       9|  Клиент 9|   Ф|   -|  2020-11-02|\n",
      "|      10| Клиент 10|   Ю| ООО|  2020-11-03|\n",
      "+--------+----------+----+----+------------+\n",
      "only showing top 10 rows\n",
      "\n"
     ]
    },
    {
     "data": {
      "text/plain": [
       "(None, None)"
      ]
     },
     "execution_count": 87,
     "metadata": {},
     "output_type": "execute_result"
    }
   ],
   "source": [
    "schema = StructType() \\\n",
    "      .add(\"ClientId\",IntegerType(),True) \\\n",
    "      .add(\"ClientName\",StringType(),True) \\\n",
    "      .add(\"Type\",StringType(),True) \\\n",
    "      .add(\"Form\",StringType(),True) \\\n",
    "      .add(\"RegisterDate\",DateType(),True) \\\n",
    "      \n",
    "df_clients = (\n",
    "    spark.read\n",
    "        .options(delimiter=';')\n",
    "        .option(\"header\",True)\n",
    "        .schema(schema)\n",
    "        .csv(\"./data/Clients.csv\")\n",
    ")\n",
    "\n",
    "df_clients.printSchema(), df_clients.show(10)"
   ]
  },
  {
   "cell_type": "code",
   "execution_count": 88,
   "metadata": {},
   "outputs": [
    {
     "name": "stdout",
     "output_type": "stream",
     "text": [
      "root\n",
      " |-- AccountID: integer (nullable = true)\n",
      " |-- AccountNum: string (nullable = true)\n",
      " |-- ClientId: integer (nullable = true)\n",
      " |-- DateOpen: date (nullable = true)\n",
      "\n",
      "+---------+--------------------+--------+----------+\n",
      "|AccountID|          AccountNum|ClientId|  DateOpen|\n",
      "+---------+--------------------+--------+----------+\n",
      "|        1|40702810927050000337|       1|2020-11-01|\n",
      "|        2|40802810300000009067|       2|2020-11-02|\n",
      "|        3|40802810300000009708|       3|2020-11-03|\n",
      "|        4|40802810800000030701|       4|2020-11-04|\n",
      "|        5|40802810300000011071|       5|2020-11-01|\n",
      "|        6|40802810100000063339|       6|2020-11-02|\n",
      "|        7|40702810823620000031|       7|2020-11-03|\n",
      "|        8|40802810409260005894|       8|2020-11-04|\n",
      "|        9|40802810905030000004|       9|2020-11-01|\n",
      "|       10|40802810400020001097|      10|2020-11-02|\n",
      "+---------+--------------------+--------+----------+\n",
      "only showing top 10 rows\n",
      "\n"
     ]
    },
    {
     "data": {
      "text/plain": [
       "(None, None)"
      ]
     },
     "execution_count": 88,
     "metadata": {},
     "output_type": "execute_result"
    }
   ],
   "source": [
    "schema = StructType() \\\n",
    "      .add(\"AccountID\",IntegerType(),True) \\\n",
    "      .add(\"AccountNum\",StringType(),True) \\\n",
    "      .add(\"ClientId\",IntegerType(),True) \\\n",
    "      .add(\"DateOpen\",DateType(),True) \\\n",
    "      \n",
    "df_accounts = (\n",
    "    spark.read\n",
    "        .options(delimiter=';')\n",
    "        .option(\"header\",True)\n",
    "        .schema(schema)\n",
    "        .csv(\"./data/Account.csv\")\n",
    ")\n",
    "\n",
    "df_accounts.printSchema(), df_accounts.show(10)"
   ]
  },
  {
   "cell_type": "code",
   "execution_count": 89,
   "metadata": {},
   "outputs": [
    {
     "name": "stdout",
     "output_type": "stream",
     "text": [
      "root\n",
      " |-- Currency: string (nullable = true)\n",
      " |-- RateDate: date (nullable = true)\n",
      " |-- Rate: double (nullable = true)\n",
      "\n",
      "+--------+----------+-----+\n",
      "|Currency|  RateDate| Rate|\n",
      "+--------+----------+-----+\n",
      "|      EU|2020-01-02|91.27|\n",
      "|     RUB|2020-01-02|  1.0|\n",
      "|     USD|2020-01-02|80.23|\n",
      "+--------+----------+-----+\n",
      "\n"
     ]
    },
    {
     "data": {
      "text/plain": [
       "(None, None)"
      ]
     },
     "execution_count": 89,
     "metadata": {},
     "output_type": "execute_result"
    }
   ],
   "source": [
    "schema = StructType() \\\n",
    "    .add(\"Currency\", StringType(), True) \\\n",
    "    .add(\"Rate\", StringType(), True) \\\n",
    "    .add(\"RateDate\", DateType(), True) \\\n",
    "\n",
    "df_rates = (\n",
    "    spark.read\n",
    "    .options(delimiter=';')\n",
    "    .option(\"header\", True)\n",
    "    .schema(schema)\n",
    "    .csv(\"./data/Rate.csv\")\n",
    ")\n",
    "\n",
    "df_rates = df_rates.withColumn(\"Rate\", F.regexp_replace(\"Rate\", \",\", \".\").cast(DoubleType()))\n",
    "\n",
    "df_rates = (\n",
    "    df_rates.select(F.col(\"Currency\"), F.struct(F.col(\"RateDate\"), F.col(\"Rate\")).alias(\"vs\"))\n",
    "    .groupBy(F.col(\"Currency\"))\n",
    "    .agg(F.max(F.col(\"vs\")).alias(\"vs\"))\n",
    "    .select(\"Currency\", \"vs.RateDate\", \"vs.Rate\")\n",
    ")\n",
    "\n",
    "df_rates.printSchema(), df_rates.show()\n"
   ]
  },
  {
   "cell_type": "code",
   "execution_count": 90,
   "metadata": {},
   "outputs": [
    {
     "name": "stdout",
     "output_type": "stream",
     "text": [
      "root\n",
      " |-- AccountDB: integer (nullable = true)\n",
      " |-- AccountCR: integer (nullable = true)\n",
      " |-- DateOp: date (nullable = true)\n",
      " |-- Amount: double (nullable = true)\n",
      " |-- Comment: string (nullable = true)\n",
      "\n",
      "+---------+---------+----------+------+--------------------+\n",
      "|AccountDB|AccountCR|    DateOp|Amount|             Comment|\n",
      "+---------+---------+----------+------+--------------------+\n",
      "|        1|     4999|2020-11-01|   0.1|а/м, а\\м, автомоб...|\n",
      "|        2|     5000|2020-11-02| 16.05| сою, соя, зерно,...|\n",
      "|        3|     5001|2020-11-03| 27.38|сигар, табачн, та...|\n",
      "|        4|     5002|2020-11-04|   0.4|гсм, бензин, керо...|\n",
      "|        5|     5003|2020-11-01| 40.12|компью, монитор, ...|\n",
      "|        6|     5004|2020-11-02| 54.76|ювелир,  юв., лом...|\n",
      "|        7|     5005|2020-11-03|   0.7|хоз, бытхим, подг...|\n",
      "|        8|     5006|2020-11-04| 64.18|турусл, турист, з...|\n",
      "|        9|     5007|2020-11-01| 82.14|торгвыруч, оплату...|\n",
      "|       10|     5008|2020-11-02|   1.0|а/м, а\\м, автомоб...|\n",
      "+---------+---------+----------+------+--------------------+\n",
      "only showing top 10 rows\n",
      "\n"
     ]
    },
    {
     "data": {
      "text/plain": [
       "(None, None)"
      ]
     },
     "execution_count": 90,
     "metadata": {},
     "output_type": "execute_result"
    }
   ],
   "source": [
    "schema = StructType() \\\n",
    "    .add(\"AccountDB\", IntegerType(), True) \\\n",
    "    .add(\"AccountCR\", IntegerType(), True) \\\n",
    "    .add(\"DateOp\", DateType(), True) \\\n",
    "    .add(\"Amount\", StringType(), True) \\\n",
    "    .add(\"Currency\", StringType(), True) \\\n",
    "    .add(\"Comment\", StringType(), True) \\\n",
    "\n",
    "\n",
    "df_operations = (\n",
    "    spark.read\n",
    "    .options(delimiter=';')\n",
    "    .option(\"header\", True)\n",
    "    .schema(schema)\n",
    "    .csv(\"./data/Operation.csv\")\n",
    ")\n",
    "\n",
    "df_operations = df_operations.withColumn(\n",
    "    \"Amount\", F.regexp_replace(\"Amount\", \",\", \".\").cast(DoubleType()))\n",
    "\n",
    "df_operations = df_operations.join(\n",
    "    df_rates, df_operations.Currency == df_rates.Currency)\n",
    "\n",
    "# всё в рублях\n",
    "df_operations = (\n",
    "    df_operations\n",
    "    .withColumn(\"Amount\", F.round(F.col(\"Amount\") * F.col(\"Rate\"), 2))\n",
    "    .select(\"AccountDB\", \"AccountCR\", \"DateOp\", \"Amount\", \"Comment\")\n",
    ")\n",
    "\n",
    "df_operations.printSchema(), df_operations.show(10)\n"
   ]
  },
  {
   "cell_type": "code",
   "execution_count": 91,
   "metadata": {},
   "outputs": [],
   "source": [
    "# Загрузка списков из postgres\n",
    "\n",
    "# url = \"jdbc:postgresql://localhost:5432/postgres\"\n",
    "# creds = {\"user\": \"postgres\", \"password\": \"myPassword\"}\n",
    "# lists = spark.read.jdbc(url, \"de_sprint.lists\", properties = creds)\n",
    "# lists.printSchema(), lists.show()"
   ]
  },
  {
   "cell_type": "code",
   "execution_count": 92,
   "metadata": {},
   "outputs": [],
   "source": [
    "# для теста\n",
    "\n",
    "list1 = \"%а/м%, %а\\м%, %автомобиль %, %автомобили %, %транспорт%, %трансп%средс%, %легков%, %тягач%, %вин%, %vin%,%viн:%, %fоrd%, %форд%,%кiа%, %кия%, %киа%%мiтsuвisнi%, %мицубиси%, %нissан%, %ниссан%, %sсанiа%, %вмw%, %бмв%, %аudi%, %ауди%, %jеер%, %джип%, %vоlvо%, %вольво%, %тоyота%, %тойота%, %тоиота%, %нyuнdаi%, %хендай%, %rенаulт%, %рено%, %реugеот%, %пежо%, %lаdа%, %лада%, %dатsuн%, %додж%, %меrсеdеs%, %мерседес%, %vоlкswаgен%, %фольксваген%, %sкоdа%, %шкода%, %самосвал%, %rover%, %ровер%\"\n",
    "list2= \"%сою%, %соя%, %зерно%, %кукуруз%, %масло%, %молок%, %молоч%, %мясн%, %мясо%, %овощ%, %подсолн%, %пшениц%, %рис%, %с/х%прод%, %с/х%товар%, %с\\х%прод%, %с\\х%товар%, %сахар%, %сельск%прод%, %сельск%товар%, %сельхоз%прод%, %сельхоз%товар%, %семен%, %семечк%, %сено%, %соев%, %фрукт%, %яиц%, %ячмен%, %картоф%, %томат%, %говя%, %свин%, %курин%, %куриц%, %рыб%, %алко%, %чаи%, %кофе%, %чипс%, %напит%, %бакале%, %конфет%, %колбас%, %морож%, %с/м%, %с\\м%, %консерв%, %пищев%, %питан%, %сыр%, %макарон%, %лосос%, %треск%, %саир%, % филе%, % хек%, %хлеб%, %какао%, %кондитер%, %пиво%, %ликер%\""
   ]
  },
  {
   "attachments": {},
   "cell_type": "markdown",
   "metadata": {},
   "source": [
    "## Подготовка данных"
   ]
  },
  {
   "cell_type": "code",
   "execution_count": 93,
   "metadata": {},
   "outputs": [],
   "source": [
    "# Будем делать только на первую дату\n",
    "\n",
    "data_mart_date = \"2020-11-01\""
   ]
  },
  {
   "cell_type": "code",
   "execution_count": 94,
   "metadata": {},
   "outputs": [
    {
     "name": "stdout",
     "output_type": "stream",
     "text": [
      "+---------+-----------+\n",
      "|AccountDB|SumAmountDB|\n",
      "+---------+-----------+\n",
      "|      833|  877595.71|\n",
      "|     1645| 1283174.66|\n",
      "|     1829|  902867.22|\n",
      "|     3749|  951583.38|\n",
      "|     3997| 1345448.57|\n",
      "+---------+-----------+\n",
      "only showing top 5 rows\n",
      "\n"
     ]
    },
    {
     "data": {
      "text/plain": [
       "(None, 5000)"
      ]
     },
     "execution_count": 94,
     "metadata": {},
     "output_type": "execute_result"
    }
   ],
   "source": [
    "debet =  (\n",
    "    df_operations\n",
    "    .where(df_operations.DateOp == data_mart_date)\n",
    "    .groupBy(\"AccountDB\")\n",
    "    .agg(\n",
    "        F.round(F.sum(F.col(\"Amount\")), 2).alias(\"SumAmountDB\")\n",
    "    )\n",
    ")\n",
    "\n",
    "debet.show(5), debet.count()"
   ]
  },
  {
   "cell_type": "code",
   "execution_count": 95,
   "metadata": {},
   "outputs": [
    {
     "name": "stdout",
     "output_type": "stream",
     "text": [
      "+---------+-----------+\n",
      "|AccountCR|SumAmountCR|\n",
      "+---------+-----------+\n",
      "|     5803|  1260934.0|\n",
      "|     9427| 1356886.63|\n",
      "|    10623| 1547420.02|\n",
      "|    12027|  1595717.6|\n",
      "|    12799| 1446167.08|\n",
      "+---------+-----------+\n",
      "only showing top 5 rows\n",
      "\n"
     ]
    },
    {
     "data": {
      "text/plain": [
       "(None, 5000)"
      ]
     },
     "execution_count": 95,
     "metadata": {},
     "output_type": "execute_result"
    }
   ],
   "source": [
    "credit =  (\n",
    "    df_operations\n",
    "    .where(df_operations.DateOp == data_mart_date)\n",
    "    .groupBy(\"AccountCR\")\n",
    "    .agg(\n",
    "        F.round(F.sum(F.col(\"Amount\")), 2).alias(\"SumAmountCR\")\n",
    "    )\n",
    ")\n",
    "\n",
    "credit.show(5), credit.count()"
   ]
  },
  {
   "attachments": {},
   "cell_type": "markdown",
   "metadata": {},
   "source": [
    "## Витрины"
   ]
  },
  {
   "attachments": {},
   "cell_type": "markdown",
   "metadata": {},
   "source": [
    "### 1. Витрина corporate_payments"
   ]
  },
  {
   "cell_type": "code",
   "execution_count": 96,
   "metadata": {},
   "outputs": [
    {
     "name": "stderr",
     "output_type": "stream",
     "text": [
      "                                                                                \r"
     ]
    },
    {
     "name": "stdout",
     "output_type": "stream",
     "text": [
      "+---------+--------+----------+--------------+---------+----------+----------+----------+----------+\n",
      "|AccountID|ClientId|PaymentAmt|EnrollementAmt|   TaxAmt|  ClearAmt|   CarsAmt|   FoodAmt|     FLAmt|\n",
      "+---------+--------+----------+--------------+---------+----------+----------+----------+----------+\n",
      "|        1|       1|1239646.48|           0.0|      0.0|       0.0|1239646.38|       0.0|1239646.48|\n",
      "|        2|       2|       0.0|           0.0|      0.0|       0.0|       0.0|       0.0|       0.0|\n",
      "|        3|       3|       0.0|           0.0|      0.0|       0.0|       0.0|       0.0|       0.0|\n",
      "|        4|       4|       0.0|    1698092.02|      0.0|       0.0|       0.0|1698092.02|       0.0|\n",
      "|        5|       5| 856586.88|           0.0|      0.0|       0.0| 375166.76|       0.0| 856586.88|\n",
      "|        6|       6|       0.0|           0.0|      0.0|       0.0|       0.0|       0.0|       0.0|\n",
      "|        7|       7|       0.0|           0.0|      0.0|       0.0|       0.0|       0.0|       0.0|\n",
      "|        8|       8|       0.0|    1504628.29|      0.0|1504628.29|       0.0|1504628.29|       0.0|\n",
      "|        9|       9| 1354229.6|           0.0|1354229.6|       0.0|1193697.39|       0.0| 1354229.6|\n",
      "|       10|      10|       0.0|           0.0|      0.0|       0.0|       0.0|       0.0|       0.0|\n",
      "|       11|      11|       0.0|           0.0|      0.0|       0.0|       0.0|       0.0|       0.0|\n",
      "|       12|      12|       0.0|    1110519.85|      0.0|       0.0|       0.0| 548805.55|       0.0|\n",
      "|       13|      13| 1239964.2|           0.0|1239964.2|       0.0| 1233962.9|       0.0| 1239964.2|\n",
      "|       14|      14|       0.0|           0.0|      0.0|       0.0|       0.0|       0.0|       0.0|\n",
      "|       15|      15|       0.0|           0.0|      0.0|       0.0|       0.0|       0.0|       0.0|\n",
      "|       16|      16|       0.0|     1698504.8|      0.0|       0.0|       0.0|1457678.41|       0.0|\n",
      "|       17|      17| 856891.34|           0.0|      0.0|       0.0| 854889.64|       0.0| 856891.34|\n",
      "|       18|      18|       0.0|           0.0|      0.0|       0.0|       0.0|       0.0|       0.0|\n",
      "|       19|      19|       0.0|           0.0|      0.0|       0.0|       0.0|       0.0|       0.0|\n",
      "|       20|      20|       0.0|    1504946.02|      0.0|       0.0|       0.0|1504946.02|       0.0|\n",
      "+---------+--------+----------+--------------+---------+----------+----------+----------+----------+\n",
      "only showing top 20 rows\n",
      "\n"
     ]
    },
    {
     "name": "stderr",
     "output_type": "stream",
     "text": [
      "                                                                                \r"
     ]
    }
   ],
   "source": [
    "# AccountId\t        ИД счета\n",
    "# ClientId\t        Ид клиента счета\n",
    "# PaymentAmt\t    Сумма операций по счету, где счет клиента указан в дебете проводки\n",
    "# EnrollementAmt\tСумма операций по счету, где счет клиента указан в кредите проводки\n",
    "# TaxAmt\t\t    Сумму операций, где счет клиента указан в дебете, и счет кредита 40702\n",
    "# ClearAmt\t        Сумма операций, где счет клиента указан в кредите, и счет дебета 40802\n",
    "# CarsAmt\t\t    Сумма операций, где счет клиента указан в дебете проводки и назначение платежа не содержит слов по маскам Списка 1\n",
    "# FoodAmt\t\t    Сумма операций, где счет клиента указан в кредите проводки и назначение платежа содержит слова по Маскам Списка 2\n",
    "# FLAmt\t\t        Сумма операций с физ. лицами. Счет клиента указан в дебете проводки, а клиент в кредите проводки – ФЛ.\n",
    "# CutoffDt\t        Дата операции;\n",
    "\n",
    "\n",
    "# Client\n",
    "#  |-- ClientId: integer (nullable = true)\n",
    "#  |-- ClientName: string (nullable = true)\n",
    "#  |-- Type: string (nullable = true)\n",
    "#  |-- Form: string (nullable = true)\n",
    "#  |-- RegisterDate: date (nullable = true)\n",
    "\n",
    "# Account\n",
    "#  |-- AccountID: integer (nullable = true)\n",
    "#  |-- AccountNum: string (nullable = true)\n",
    "#  |-- ClientId: integer (nullable = true)\n",
    "#  |-- DateOpen: date (nullable = true)\n",
    "\n",
    "# Rate\n",
    "#  |-- Currency: string (nullable = true)\n",
    "#  |-- RateDate: date (nullable = true)\n",
    "#  |-- Rate: double (nullable = true)\n",
    "\n",
    "# Operations\n",
    "#  |-- AccountDB: integer (nullable = true)\n",
    "#  |-- AccountCR: integer (nullable = true)\n",
    "#  |-- DateOp: date (nullable = true)\n",
    "#  |-- Amount: double (nullable = true)\n",
    "#  |-- Currency: string (nullable = true)\n",
    "#  |-- Comment: string (nullable = true)\n",
    "\n",
    "from functools import reduce\n",
    "\n",
    "grouped_payment = (\n",
    "    df_operations\n",
    "    .where(df_operations.DateOp == data_mart_date)\n",
    "    .join(df_accounts, df_accounts.AccountID == df_operations.AccountDB)\n",
    "    .groupBy(\"AccountDB\")\n",
    "    .agg(\n",
    "        F.sum(\"Amount\").alias(\"PaymentAmt\")\n",
    "    )\n",
    ")\n",
    "\n",
    "grouped_tax = (\n",
    "    df_operations\n",
    "    .where(df_operations.DateOp == data_mart_date)\n",
    "    .join(df_accounts, (df_accounts.AccountID == df_operations.AccountCR) & (df_accounts.AccountNum.startswith(\"40702\")))\n",
    "    .groupBy(\"AccountDB\")\n",
    "    .agg(\n",
    "        F.sum(\"Amount\").alias(\"TaxAmt\")\n",
    "    )\n",
    ")\n",
    "\n",
    "grouped_cars = (\n",
    "    df_operations\n",
    "    .where((df_operations.DateOp == data_mart_date) & (~reduce(lambda a, b: a | b, (df_operations.Comment.like(pat.replace(\"\\\\\", \"\\\\\\\\\")) for pat in list1.split(\",\")))))\n",
    "    .groupBy(\"AccountDB\")\n",
    "    .agg(\n",
    "        F.sum(\"Amount\").alias(\"CarsAmt\")\n",
    "    )\n",
    ")\n",
    "\n",
    "\n",
    "grouped_enrollement = (\n",
    "    df_operations\n",
    "    .where(df_operations.DateOp == data_mart_date)\n",
    "    .groupBy(\"AccountCR\")\n",
    "    .agg(\n",
    "        F.sum(\"Amount\").alias(\"EnrollementAmt\")\n",
    "    )\n",
    ")\n",
    "\n",
    "grouped_clear = (\n",
    "    df_operations\n",
    "    .where(df_operations.DateOp == data_mart_date)\n",
    "    .join(df_accounts, (df_accounts.AccountID == df_operations.AccountDB) & (df_accounts.AccountNum.startswith(\"40802\")))\n",
    "    .groupBy(\"AccountCR\")\n",
    "    .agg(\n",
    "        F.sum(\"Amount\").alias(\"ClearAmt\")\n",
    "    )\n",
    ")\n",
    "\n",
    "grouped_food = (\n",
    "    df_operations\n",
    "    .where((df_operations.DateOp == data_mart_date) & (~reduce(lambda a, b: a | b, (df_operations.Comment.like(pat.replace(\"\\\\\", \"\\\\\\\\\")) for pat in list2.split(\",\")))))\n",
    "    .groupBy(\"AccountCR\")\n",
    "    .agg(\n",
    "        F.sum(\"Amount\").alias(\"FoodAmt\")\n",
    "    )\n",
    ")\n",
    "\n",
    "\n",
    "grouped_fl = (\n",
    "    df_operations\n",
    "    .where(df_operations.DateOp == data_mart_date)\n",
    "    .join(df_accounts.alias(\"acc_db\"), F.col(\"acc_db.AccountID\") == df_operations.AccountDB)\n",
    "    .join(df_accounts.alias(\"acc_cr\"), F.col(\"acc_cr.AccountID\") == df_operations.AccountCR)\n",
    "    .join(df_clients.where(F.col(\"Type\") == \"Ф\").alias(\"cl_cr\"), F.col(\"acc_db.ClientId\") == F.col(\"cl_cr.ClientId\"))\n",
    "    .groupBy(\"AccountDB\")\n",
    "    .agg(\n",
    "        F.sum(\"Amount\").alias(\"FLAmt\")\n",
    "    )\n",
    ")\n",
    "\n",
    "\n",
    "corporate_payments = (\n",
    "    df_accounts\n",
    "    .join(grouped_payment, df_accounts.AccountID == grouped_payment.AccountDB, \"left\")\n",
    "    .join(grouped_tax, df_accounts.AccountID == grouped_tax.AccountDB, \"left\")\n",
    "    .join(grouped_cars, df_accounts.AccountID == grouped_cars.AccountDB, \"left\")\n",
    "    .join(grouped_enrollement, df_accounts.AccountID == grouped_enrollement.AccountCR, \"left\")\n",
    "    .join(grouped_clear, df_accounts.AccountID == grouped_clear.AccountCR, \"left\")\n",
    "    .join(grouped_food, df_accounts.AccountID == grouped_food.AccountCR, \"left\")\n",
    "    .join(grouped_fl, df_accounts.AccountID == grouped_fl.AccountDB, \"left\")\n",
    "    .select(\"AccountID\", \"ClientId\", \n",
    "            F.when(F.col(\"PaymentAmt\").isNotNull(), F.round(F.col(\"PaymentAmt\"), 2)).otherwise(F.lit(0.0)).alias(\"PaymentAmt\"), \n",
    "            F.when(F.col(\"EnrollementAmt\").isNotNull(), F.round(F.col(\"EnrollementAmt\"), 2)).otherwise(F.lit(0.0)).alias(\"EnrollementAmt\"),\n",
    "            F.when(F.col(\"TaxAmt\").isNotNull(), F.round(F.col(\"TaxAmt\"), 2)).otherwise(F.lit(0.0)).alias(\"TaxAmt\"),\n",
    "            F.when(F.col(\"ClearAmt\").isNotNull(), F.round(F.col(\"ClearAmt\"), 2)).otherwise(F.lit(0.0)).alias(\"ClearAmt\"),\n",
    "            F.when(F.col(\"CarsAmt\").isNotNull(), F.round(F.col(\"CarsAmt\"), 2)).otherwise(F.lit(0.0)).alias(\"CarsAmt\"),\n",
    "            F.when(F.col(\"FoodAmt\").isNotNull(), F.round(F.col(\"FoodAmt\"), 2)).otherwise(F.lit(0.0)).alias(\"FoodAmt\"),\n",
    "            F.when(F.col(\"FLAmt\").isNotNull(), F.round(F.col(\"FLAmt\"), 2)).otherwise(F.lit(0.0)).alias(\"FLAmt\"))\n",
    ")\n",
    "\n",
    "corporate_payments.orderBy(\"AccountID\").show()\n",
    "\n",
    "corporate_payments.write\\\n",
    "    .format(\"parquet\")\\\n",
    "    .option(\"path\", \"data/\" + data_mart_date + \"/corporate_payments\")\\\n",
    "    .mode(\"overwrite\")\\\n",
    "    .save()\n"
   ]
  },
  {
   "attachments": {},
   "cell_type": "markdown",
   "metadata": {},
   "source": [
    "### 2. Витрина corporate_account"
   ]
  },
  {
   "cell_type": "code",
   "execution_count": 97,
   "metadata": {},
   "outputs": [
    {
     "name": "stdout",
     "output_type": "stream",
     "text": [
      "+---------+--------------------+----------+--------+----------+----------+\n",
      "|AccountID|          AccountNum|  DateOpen|ClientId|ClientName|  TotalAmt|\n",
      "+---------+--------------------+----------+--------+----------+----------+\n",
      "|        1|40702810927050000337|2020-11-01|       1|  Клиент 1|1239646.48|\n",
      "|        4|40802810800000030701|2020-11-04|       4|  Клиент 4|1698092.02|\n",
      "|        5|40802810300000011071|2020-11-01|       5|  Клиент 5| 856586.88|\n",
      "|        8|40802810409260005894|2020-11-04|       8|  Клиент 8|1504628.29|\n",
      "|        9|40802810905030000004|2020-11-01|       9|  Клиент 9| 1354229.6|\n",
      "|       12|40702810836260000957|2020-11-04|      12| Клиент 12|1110519.85|\n",
      "|       13|40702810000000150277|2020-11-01|      13| Клиент 13| 1239964.2|\n",
      "|       16|40702810400000099734|2020-11-04|      16| Клиент 16| 1698504.8|\n",
      "|       17|40702810600000057437|2020-11-01|      17| Клиент 17| 856891.34|\n",
      "|       20|40702810473000000378|2020-11-04|      20| Клиент 20|1504946.02|\n",
      "|       21|40702810300000049813|2020-11-01|      21| Клиент 21| 1354642.4|\n",
      "|       24|40702810812250000077|2020-11-04|      24| Клиент 24|1110824.34|\n",
      "|       25|40802810327110000024|2020-11-01|      25| Клиент 25|1240281.93|\n",
      "|       28|40802810300000018362|2020-11-04|      28| Клиент 28| 1698917.6|\n",
      "|       29|40802810400020000632|2020-11-01|      29| Клиент 29| 857195.82|\n",
      "|       32|40702810400060008556|2020-11-04|      32| Клиент 32|1505263.74|\n",
      "|       33|40702810900000120462|2020-11-01|      33| Клиент 33| 1355055.2|\n",
      "|       36|40702810900000152139|2020-11-04|      36| Клиент 36| 1111128.8|\n",
      "|       37|40702810800000034454|2020-11-01|      37| Клиент 37|1240599.65|\n",
      "|       40|40702810000000113612|2020-11-04|      40| Клиент 40| 1699330.4|\n",
      "+---------+--------------------+----------+--------+----------+----------+\n",
      "only showing top 20 rows\n",
      "\n"
     ]
    }
   ],
   "source": [
    "# AccountID\t    ИД счета\n",
    "# AccountNum\tНомер счета\n",
    "# DateOpen\t    Дата открытия счета\n",
    "# ClientId\t    ИД клиента\n",
    "# ClientName\tНаименование клиента\n",
    "# TotalAmt\t    Общая сумма оборотов по счету. Считается как сумма PaymentAmt и EnrollementAmt\n",
    "# CutoffDt\t    Дата операции\n",
    "\n",
    "total = debet.join(credit, debet.AccountDB == credit.AccountCR, \"outer\")\n",
    "total = total.na.fill(value=0, subset=[\"SumAmountDB\", \"SumAmountCR\"])\n",
    "total = total.withColumn(\"AccountID\", F.when(F.col(\"AccountDB\").isNotNull(), F.col(\"AccountDB\")).otherwise(F.col(\"AccountCR\")))\\\n",
    "    .withColumn(\"TotalAmt\", total.SumAmountDB + total.SumAmountCR)\\\n",
    "    .drop(\"AccountDB\", \"SumAmountDB\", \"AccountCR\", \"SumAmountCR\")\n",
    "total = total.join(df_accounts.alias(\"a\"), total.AccountID == df_accounts.AccountID)\\\n",
    "    .select(total.AccountID, \"ClientId\", \"TotalAmt\")\n",
    "\n",
    "# total.show()\n",
    "\n",
    "corporate_account = (\n",
    "    df_accounts\n",
    "    .join(df_clients.alias(\"c\"), df_accounts.ClientId == df_clients.ClientId)\n",
    "    .join(total.alias(\"t\"), total.AccountID == df_accounts.AccountID, \"inner\")\n",
    "    .select(df_accounts.AccountID, \"AccountNum\", \"DateOpen\", \"c.ClientId\", \"ClientName\", \"TotalAmt\")    \n",
    ")\n",
    "\n",
    "corporate_account.show()\n",
    "\n",
    "corporate_account.write\\\n",
    "    .format(\"parquet\")\\\n",
    "    .option(\"path\", \"data/\" + data_mart_date + \"/corporate_account\")\\\n",
    "    .mode(\"overwrite\")\\\n",
    "    .save()"
   ]
  },
  {
   "attachments": {},
   "cell_type": "markdown",
   "metadata": {},
   "source": [
    "### 3. Витрина corporate_info"
   ]
  },
  {
   "cell_type": "code",
   "execution_count": 98,
   "metadata": {},
   "outputs": [
    {
     "name": "stdout",
     "output_type": "stream",
     "text": [
      "+--------+-----------+----+----+------------+----------+\n",
      "|ClientId| ClientName|Type|Form|RegisterDate|  TotalAmt|\n",
      "+--------+-----------+----+----+------------+----------+\n",
      "|     148| Клиент 148|   Ю|  ИП|  2020-11-01| 1703045.6|\n",
      "|     496| Клиент 496|   Ю| ПАО|  2020-11-02| 1715016.8|\n",
      "|     833| Клиент 833|   Ф|   -|  2020-11-03|2604170.91|\n",
      "|    1088|Клиент 1088|   Ю| ПАО|  2020-11-03|1533223.45|\n",
      "|    1580|Клиент 1580|   Ю|  ИП|  2020-11-01|1546250.14|\n",
      "|    1645|Клиент 1645|   Ф|   -|  2020-11-03|2435103.26|\n",
      "|    1829|Клиент 1829|   Ф|   -|  2020-11-02|2663704.82|\n",
      "|    3749|Клиент 3749|   Ф|   -|  2020-11-04|2778468.98|\n",
      "|    3997|Клиент 3997|   Ф|   -|  2020-11-03|2557054.45|\n",
      "|    4101|Клиент 4101|   Ф|   -|  2020-11-02|3107966.58|\n",
      "|    4900|Клиент 4900|   Ю|  ИП|  2020-11-03| 1866514.4|\n",
      "|    5156|Клиент 5156|   Ю|  ИП|  2020-11-04|1640931.89|\n",
      "|    5300|Клиент 5300|   Ю|  ИП|  2020-11-01|1644744.58|\n",
      "|    5803|Клиент 5803|   Ф|   -|  2020-11-03| 1260934.0|\n",
      "|    6336|Клиент 6336|   Ю| ПАО|  2020-11-01| 1270978.7|\n",
      "|    6357|Клиент 6357|   Ф|   -|  2020-11-01|3245305.09|\n",
      "|    6397|Клиент 6397|   Ф|   -|  2020-11-02|2681494.45|\n",
      "|    6620|Клиент 6620|   Ю|  ИП|  2020-11-01|1679694.22|\n",
      "|    7240|Клиент 7240|   Ю| ПАО|  2020-11-02| 1947010.4|\n",
      "|    7253|Клиент 7253|   Ф|   -|  2020-11-01|2987913.57|\n",
      "+--------+-----------+----+----+------------+----------+\n",
      "only showing top 20 rows\n",
      "\n"
     ]
    }
   ],
   "source": [
    "# ClientId\t    ИД клиента (PK)\n",
    "# ClientName\tНаименование клиента\n",
    "# Type\t        Тип клиента (ФЛ, ЮЛ)\n",
    "# Form\t        Организационно-правовая форма (ООО, ИП и т.п.)\n",
    "# RegisterDate\tДата регистрации клиента\n",
    "# TotalAmt\t    Сумма операций по всем счетам клиент. Считается как сумма corporate_account.total_amt по всем счетам.\n",
    "# CutoffDt\t    Дата операции\n",
    "\n",
    "grouped = total.groupby(\"ClientId\").agg(F.sum(\"TotalAmt\").alias(\"TotalAmt\"))\n",
    "\n",
    "corporate_info = (\n",
    "    df_clients.join(grouped, df_clients.ClientId == grouped.ClientId)\n",
    "    .select(df_clients.ClientId, \"ClientName\", \"Type\", \"Form\", \"RegisterDate\", F.round(\"TotalAmt\", 2).alias(\"TotalAmt\"))\n",
    ")\n",
    "\n",
    "corporate_info.show()\n",
    "\n",
    "corporate_info.write\\\n",
    "    .format(\"parquet\")\\\n",
    "    .option(\"path\", \"data/\" + data_mart_date + \"/corporate_info\")\\\n",
    "    .mode(\"overwrite\")\\\n",
    "    .save()"
   ]
  }
 ],
 "metadata": {
  "kernelspec": {
   "display_name": "Python 3",
   "language": "python",
   "name": "python3"
  },
  "language_info": {
   "codemirror_mode": {
    "name": "ipython",
    "version": 3
   },
   "file_extension": ".py",
   "mimetype": "text/x-python",
   "name": "python",
   "nbconvert_exporter": "python",
   "pygments_lexer": "ipython3",
   "version": "3.10.6"
  },
  "orig_nbformat": 4
 },
 "nbformat": 4,
 "nbformat_minor": 2
}
